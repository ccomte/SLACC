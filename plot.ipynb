{
 "cells": [
  {
   "cell_type": "markdown",
   "metadata": {},
   "source": [
    "# Dynamic Load Balancing with Tokens\n",
    "\n",
    "Plot the numerical results."
   ]
  },
  {
   "cell_type": "markdown",
   "metadata": {
    "heading_collapsed": true
   },
   "source": [
    "## Package imports and global variable definitions"
   ]
  },
  {
   "cell_type": "code",
   "execution_count": null,
   "metadata": {
    "hidden": true,
    "init_cell": true
   },
   "outputs": [],
   "source": [
    "%pylab inline"
   ]
  },
  {
   "cell_type": "code",
   "execution_count": null,
   "metadata": {
    "hidden": true,
    "hide_input": false,
    "init_cell": true
   },
   "outputs": [],
   "source": [
    "# uncomment this line if you prefer dynamic matplotlib plots\n",
    "# %matplotlib notebook\n",
    "\n",
    "# change the default figure size\n",
    "pylab.rcParams['figure.figsize'] = (10.0, 6.0)\n",
    "pylab.rcParams['legend.fontsize'] = 12"
   ]
  },
  {
   "cell_type": "code",
   "execution_count": null,
   "metadata": {
    "hidden": true,
    "init_cell": true
   },
   "outputs": [],
   "source": [
    "# manipulate dataframes\n",
    "import pandas as pd"
   ]
  },
  {
   "cell_type": "code",
   "execution_count": null,
   "metadata": {
    "hidden": true,
    "init_cell": true
   },
   "outputs": [],
   "source": [
    "# global variables\n",
    "ρρ = linspace(5., 0, 10000, endpoint = False)\n",
    "nb_tokens = 6"
   ]
  },
  {
   "cell_type": "markdown",
   "metadata": {
    "heading_collapsed": true
   },
   "source": [
    "## A single job type"
   ]
  },
  {
   "cell_type": "markdown",
   "metadata": {
    "hidden": true
   },
   "source": [
    "We consider the first scenario in the paper.\n",
    "There are $N = 10$ servers, each with $\\ell = 6$ tokens.\n",
    "The first half have a unit service capacity $\\mu$\n",
    "and the other half have a service capacity $4 \\mu$.\n",
    "There is a single job type, i.e., all jobs can be assigned to any server.\n",
    "The external arrival rate is denoted by $\\nu$."
   ]
  },
  {
   "cell_type": "code",
   "execution_count": null,
   "metadata": {
    "hidden": true
   },
   "outputs": [],
   "source": [
    "# parameters\n",
    "N = 10\n",
    "μ = ones(N); μ[N//2:] = 4.\n",
    "ℓ = nb_tokens * ones(N, dtype = int)"
   ]
  },
  {
   "cell_type": "markdown",
   "metadata": {
    "heading_collapsed": true,
    "hidden": true,
    "hide_input": false
   },
   "source": [
    "### Comparison with the static load balancings"
   ]
  },
  {
   "cell_type": "code",
   "execution_count": null,
   "metadata": {
    "hidden": true
   },
   "outputs": [],
   "source": [
    "# load the external results\n",
    "best_static_df = pd.read_csv('data/single-best-static-exact.csv')\n",
    "uni_static_df = pd.read_csv('data/single-uni-static-exact.csv')\n",
    "dynamic_exact_df = pd.read_csv('data/single-dynamic-exact.csv')\n",
    "dynamic_hyp_df = pd.read_csv('data/single-dynamic-simu-hyperexp.csv')"
   ]
  },
  {
   "cell_type": "code",
   "execution_count": null,
   "metadata": {
    "hidden": true,
    "hide_input": true
   },
   "outputs": [],
   "source": [
    "# occupancy ratios\n",
    "figure()\n",
    "\n",
    "# dynamic - exact results\n",
    "plot(dynamic_exact_df['rho'], dynamic_exact_df['beta'], 'C0', label = \"Dynamic\")\n",
    "plot(dynamic_exact_df['rho'], dynamic_exact_df['eta'], 'C0', label = \"\")\n",
    "\n",
    "# dynamic - simulations with hyperexponentially distributed job sizes\n",
    "plot(dynamic_hyp_df['rho'], dynamic_hyp_df['beta'], 'C0+', label = \"\")\n",
    "fill_between(dynamic_hyp_df['rho'],\n",
    "             dynamic_hyp_df['beta'] - dynamic_hyp_df['wbeta'],\n",
    "             dynamic_hyp_df['beta'] + dynamic_hyp_df['wbeta'], \n",
    "             color = 'C0', alpha = .4)\n",
    "plot(dynamic_hyp_df['rho'], dynamic_hyp_df['eta'], 'C0+', label = \"\")\n",
    "fill_between(dynamic_hyp_df['rho'],\n",
    "             dynamic_hyp_df['eta'] - dynamic_hyp_df['weta'],\n",
    "             dynamic_hyp_df['eta'] + dynamic_hyp_df['weta'], \n",
    "             color = 'C0', alpha = .4)\n",
    "\n",
    "# best static\n",
    "plot(best_static_df['rho'], best_static_df['beta'], 'C1', label = \"Best static\")\n",
    "plot(best_static_df['rho'], best_static_df['eta'], 'C1', label = \"\")\n",
    "\n",
    "# uniform static\n",
    "plot(uni_static_df['rho'], uni_static_df['beta'], 'C2', label = \"Uniform static\")\n",
    "plot(uni_static_df['rho'], uni_static_df['eta'], 'C2', label = \"\")\n",
    "\n",
    "# ideal\n",
    "plot(ρρ, maximum(0, 1. - 1. / ρρ), 'C3--', label = \"Ideal\")\n",
    "plot(ρρ, minimum(1, ρρ), 'C3--')\n",
    "\n",
    "# references\n",
    "axvline(x = 2/5, color = 'C4', linestyle = ':')\n",
    "axvline(x = 8/5, color = 'C4', linestyle = ':')\n",
    "\n",
    "xlim(0, 3); ylim(0, 1)\n",
    "legend(loc = 'best'); xlabel(\"Load ρ\"); ylabel(\"Occupancy ratios\")\n",
    "title(\"Average blocking probability and resource occupancy\")\n",
    "show()"
   ]
  },
  {
   "cell_type": "code",
   "execution_count": null,
   "metadata": {
    "hidden": true,
    "hide_input": true
   },
   "outputs": [],
   "source": [
    "# mean number of jobs\n",
    "figure()\n",
    "\n",
    "# exact\n",
    "plot(dynamic_exact_df['rho'], dynamic_exact_df['L'], 'C0', label = \"Dynamic\")\n",
    "plot(best_static_df['rho'], best_static_df['L'], 'C1', label = \"Best static\")\n",
    "plot(uni_static_df['rho'], uni_static_df['L'], 'C2', label = \"Uniform static\")\n",
    "\n",
    "# simulations - hyperexponentially distributed job sizes\n",
    "plot(dynamic_hyp_df['rho'], dynamic_hyp_df['L'], 'C0+', label = \"\")\n",
    "fill_between(dynamic_hyp_df['rho'],\n",
    "             dynamic_hyp_df['L'] - dynamic_hyp_df['wL'],\n",
    "             dynamic_hyp_df['L'] + dynamic_hyp_df['wL'], \n",
    "             color = 'C0', alpha = .4)\n",
    "\n",
    "# references\n",
    "axvline(x = 2/5, color = 'C4', linestyle = ':')\n",
    "axvline(x = 8/5, color = 'C4', linestyle = ':')\n",
    "\n",
    "xlim(0, 3); ylim(0, sum(ℓ))\n",
    "legend(loc = 'best'); xlabel(\"Load ρ\"); ylabel(\"Number of jobs\")\n",
    "title(\"Mean number of jobs\")\n",
    "show()"
   ]
  },
  {
   "cell_type": "code",
   "execution_count": null,
   "metadata": {
    "hidden": true,
    "hide_input": true
   },
   "outputs": [],
   "source": [
    "# mean service rate\n",
    "figure()\n",
    "\n",
    "# exact\n",
    "plot(dynamic_exact_df['rho'], dynamic_exact_df['gamma'], label = \"Dynamic\")\n",
    "plot(best_static_df['rho'], best_static_df['gamma'], 'C1', label = \"Best static\")\n",
    "plot(uni_static_df['rho'], uni_static_df['gamma'], 'C2', label = \"Uniform static\")\n",
    "\n",
    "# simulations - hyperexponentially distributed job sizes\n",
    "plot(dynamic_hyp_df['rho'], dynamic_hyp_df['gamma'], 'C0+', label = \"\")\n",
    "fill_between(dynamic_hyp_df['rho'],\n",
    "             dynamic_hyp_df['gamma'] - dynamic_hyp_df['wgamma'],\n",
    "             dynamic_hyp_df['gamma'] + dynamic_hyp_df['wgamma'], \n",
    "             color = 'C0', alpha = .4)\n",
    "\n",
    "# references\n",
    "axvline(x = 2/5, color = 'C4', linestyle = ':')\n",
    "axvline(x = 8/5, color = 'C4', linestyle = ':')\n",
    "\n",
    "axhline(y = 2.5 / nb_tokens, color = 'C4', linestyle = ':')\n",
    "\n",
    "xlim(0, 3); ylim(0, 2.5)\n",
    "legend(loc = 'best'); xlabel(\"Load ρ\"); ylabel(\"Service rate\")\n",
    "title(\"Mean service rate\")\n",
    "show()"
   ]
  },
  {
   "cell_type": "markdown",
   "metadata": {
    "heading_collapsed": true,
    "hidden": true
   },
   "source": [
    "### Per-server metrics"
   ]
  },
  {
   "cell_type": "code",
   "execution_count": null,
   "metadata": {
    "hidden": true
   },
   "outputs": [],
   "source": [
    "# load the external results\n",
    "best_static_df = pd.read_csv('data/single-best-static-exact.csv')\n",
    "uni_static_df = pd.read_csv('data/single-uni-static-exact.csv')\n",
    "dynamic_exact_df = pd.read_csv('data/single-dynamic-exact.csv')"
   ]
  },
  {
   "cell_type": "code",
   "execution_count": null,
   "metadata": {
    "hidden": true,
    "hide_input": true
   },
   "outputs": [],
   "source": [
    "# mean number of jobs\n",
    "figure()\n",
    "\n",
    "plot(dynamic_exact_df['rho'], dynamic_exact_df['L'],\n",
    "     'C0', label = \"$L$\")\n",
    "plot(dynamic_exact_df['rho'], dynamic_exact_df['Li1'],\n",
    "     'C1', label = \"$L_{\\{i = 1\\}} = \\ldots = L_{\\{i = 5\\}}$\")\n",
    "plot(dynamic_exact_df['rho'], dynamic_exact_df['Li6'],\n",
    "     'C2', label = \"$L_{\\{i = 6\\}} = \\ldots = L_{\\{i = 10\\}}$\")\n",
    "\n",
    "xlim(0, 3); ylim(0, sum(ℓ))\n",
    "legend(loc = 'best'); xlabel(\"Load ρ\"); ylabel(\"Number of jobs\")\n",
    "title(\"Mean number of jobs with the dynamic load balancing\")\n",
    "show()"
   ]
  },
  {
   "cell_type": "code",
   "execution_count": null,
   "metadata": {
    "hidden": true,
    "hide_input": true
   },
   "outputs": [],
   "source": [
    "# mean number of jobs\n",
    "figure()\n",
    "\n",
    "# dynamic\n",
    "plot(dynamic_exact_df['rho'], dynamic_exact_df['Li1'], 'C0', label = \"Dynamic\")\n",
    "plot(dynamic_exact_df['rho'], dynamic_exact_df['Li6'], 'C0', label = \"\")\n",
    "\n",
    "# best static\n",
    "plot(best_static_df['rho'], best_static_df['Li1'], 'C1', label = \"Best static\")\n",
    "plot(best_static_df['rho'], best_static_df['Li6'], 'C1--', label = \"\")\n",
    "\n",
    "# uniform static\n",
    "plot(uni_static_df['rho'], uni_static_df['Li1'], 'C2', label = \"Uniform static\")\n",
    "plot(uni_static_df['rho'], uni_static_df['Li6'], 'C2--', label = \"\")\n",
    "\n",
    "# references\n",
    "axvline(x = 2/5, color = 'C4', linestyle = ':')\n",
    "axvline(x = 8/5, color = 'C4', linestyle = ':')\n",
    "\n",
    "xlim(0, 3); ylim(0, nb_tokens)\n",
    "legend(loc = 'best'); xlabel(\"Load ρ\"); ylabel(\"Number of jobs\")\n",
    "title(\"Mean number of jobs per server\")\n",
    "show()"
   ]
  },
  {
   "cell_type": "code",
   "execution_count": null,
   "metadata": {
    "hidden": true,
    "hide_input": true
   },
   "outputs": [],
   "source": [
    "#### mean service rate at each server\n",
    "figure()\n",
    "\n",
    "# dynamic\n",
    "plot(dynamic_exact_df['rho'], dynamic_exact_df['gamma'], 'C0', label = \"$γ$\")\n",
    "plot(dynamic_exact_df['rho'], dynamic_exact_df['gammai1'], 'C1',\n",
    "     label = \"$γ_{\\{i = 1\\}} = \\ldots = \\gamma_{\\{i = 5\\}}$\")\n",
    "plot(dynamic_exact_df['rho'], dynamic_exact_df['gammai6'], 'C2',\n",
    "     label = \"$γ_{\\{i = 6\\}} = \\ldots = \\gamma_{\\{i = 10\\}}$\")\n",
    "\n",
    "# references\n",
    "axhline(y = 4 / nb_tokens, color = 'C4', linestyle = ':')\n",
    "axhline(y = 1 / nb_tokens, color = 'C4', linestyle = ':')\n",
    "axvline(x = 2/5, color = 'C4', linestyle = ':')\n",
    "axvline(x = 8/5, color = 'C4', linestyle = ':')\n",
    "plot(ρρ, 4. * (1. - (5/6) * ρρ), 'C4:')\n",
    "plot(ρρ, 1. - (5/3) * ρρ, 'C4:')\n",
    "\n",
    "xlim(0, 3); ylim(0, 4)\n",
    "legend(loc = 'best'); xlabel(\"Load ρ\"); ylabel(\"Service rate\")\n",
    "title(\"Mean service rate under the dynamic load balancing\")\n",
    "show()"
   ]
  },
  {
   "cell_type": "code",
   "execution_count": null,
   "metadata": {
    "hidden": true,
    "hide_input": true
   },
   "outputs": [],
   "source": [
    "# mean service rate at each server\n",
    "figure()\n",
    "\n",
    "# dynamic\n",
    "plot(dynamic_exact_df['rho'], dynamic_exact_df['gammai1'], 'C0', label = \"Dynamic\")\n",
    "plot(dynamic_exact_df['rho'], dynamic_exact_df['gammai6'], 'C0', label = \"\")\n",
    "\n",
    "# best static\n",
    "plot(best_static_df['rho'], best_static_df['gammai1'], 'C1', label = \"Best static\")\n",
    "plot(best_static_df['rho'], best_static_df['gammai6'], 'C1--', label = \"\")\n",
    "\n",
    "# uniform static\n",
    "plot(uni_static_df['rho'], uni_static_df['gammai1'], 'C2-', label = \"Uniform static\")\n",
    "plot(uni_static_df['rho'], uni_static_df['gammai6'], 'C2--', label = \"\")\n",
    "\n",
    "# references\n",
    "axhline(y = 4 / nb_tokens, color = 'C4', linestyle = ':')\n",
    "axhline(y = 1 / nb_tokens, color = 'C4', linestyle = ':')\n",
    "axvline(x = 2/5, color = 'C4', linestyle = ':')\n",
    "axvline(x = 8/5, color = 'C4', linestyle = ':')\n",
    "\n",
    "xlim(0, 3); ylim(0, 4)\n",
    "legend(loc = 'best'); xlabel(\"Load ρ\"); ylabel(\"Service rate\")\n",
    "title(\"Mean service rate\")\n",
    "show()"
   ]
  },
  {
   "cell_type": "code",
   "execution_count": null,
   "metadata": {
    "hidden": true,
    "hide_input": true
   },
   "outputs": [],
   "source": [
    "# probability that each server is idle\n",
    "figure()\n",
    "\n",
    "# dynamic\n",
    "plot(dynamic_exact_df['rho'], dynamic_exact_df['psii1'],\n",
    "     'C1', label = \"$ψ_{\\{i = 1\\}} = \\ldots = ψ_{\\{i = 5\\}}$\")\n",
    "plot(dynamic_exact_df['rho'], dynamic_exact_df['psii6'],\n",
    "     'C2', label = \"$ψ_{\\{i = 6\\}} = \\ldots = ψ_{\\{i = 10\\}}$\")\n",
    "\n",
    "plot(ρρ, 1. - ρρ, 'C4:')\n",
    "plot(ρρ, 1. - 2. * ρρ, 'C4:')\n",
    "\n",
    "xlim(0, 3); ylim(0, 1)\n",
    "legend(loc = 'best'); xlabel(\"Load ρ\"); ylabel(\"Probability\")\n",
    "title(\"Probability that each server is idle under the dynamic load balancing\")\n",
    "show()"
   ]
  },
  {
   "cell_type": "code",
   "execution_count": null,
   "metadata": {
    "hidden": true,
    "hide_input": true
   },
   "outputs": [],
   "source": [
    "# idling probability\n",
    "figure()\n",
    "\n",
    "# dynamic\n",
    "plot(dynamic_exact_df['rho'], dynamic_exact_df['psii1'], 'C0', label = \"Dynamic\")\n",
    "plot(dynamic_exact_df['rho'], dynamic_exact_df['psii6'], 'C0', label = \"\")\n",
    "\n",
    "# best static\n",
    "plot(best_static_df['rho'], best_static_df['psii1'], 'C1-', label = \"Best static\")\n",
    "plot(best_static_df['rho'], best_static_df['psii6'], 'C1--', label = \"\")\n",
    "\n",
    "# uniform static\n",
    "plot(uni_static_df['rho'], uni_static_df['psii1'], 'C2-', label = \"Uniform static\")\n",
    "plot(uni_static_df['rho'], uni_static_df['psii6'], 'C2--', label = \"\")\n",
    "\n",
    "axvline(x = 2/5, color = 'C4', linestyle = ':')\n",
    "axvline(x = 8/5, color = 'C4', linestyle = ':')\n",
    "\n",
    "xlim(0, 3); ylim(0, 1)\n",
    "legend(loc = 'best'); xlabel(\"Load ρ\"); ylabel(\"Probability\")\n",
    "title(\"Probability that each server is idle\")\n",
    "show()"
   ]
  },
  {
   "cell_type": "markdown",
   "metadata": {
    "heading_collapsed": true,
    "hidden": true
   },
   "source": [
    "### Impact of the number of tokens"
   ]
  },
  {
   "cell_type": "code",
   "execution_count": null,
   "metadata": {
    "hidden": true
   },
   "outputs": [],
   "source": [
    "# parameters\n",
    "rg_tokens = [1,2,3,6,10]"
   ]
  },
  {
   "cell_type": "code",
   "execution_count": null,
   "metadata": {
    "hidden": true
   },
   "outputs": [],
   "source": [
    "# load the external results\n",
    "dynamic_tokens_df = pd.read_csv('data/single-dynamic-exact-tokens.csv')"
   ]
  },
  {
   "cell_type": "code",
   "execution_count": null,
   "metadata": {
    "hidden": true,
    "hide_input": true
   },
   "outputs": [],
   "source": [
    "figure()\n",
    "\n",
    "# dynamic\n",
    "for nb_in_rg in rg_tokens:\n",
    "    plot(dynamic_tokens_df['rho'], dynamic_tokens_df[str(nb_in_rg) + 'beta'],\n",
    "         label = \"ℓ = \" + str(nb_in_rg))\n",
    "\n",
    "# ideal\n",
    "plot(ρρ, maximum(0, 1 - 1. / ρρ), '--', label = \"Ideal\")\n",
    "\n",
    "xlim(0, 1.6); ylim(0, .4)\n",
    "legend(loc = 'best')\n",
    "xlabel(\"Load ρ\"); ylabel(\"Probability\")\n",
    "title(\"Average blocking probability\")\n",
    "show()"
   ]
  },
  {
   "cell_type": "code",
   "execution_count": null,
   "metadata": {
    "hidden": true,
    "hide_input": true
   },
   "outputs": [],
   "source": [
    "figure()\n",
    "\n",
    "for nb_in_rg in rg_tokens:\n",
    "    semilogy(dynamic_tokens_df['rho'], dynamic_tokens_df[str(nb_in_rg) + 'beta'], label = \"ℓ = \" + str(nb_in_rg))\n",
    "semilogy(ρρ, maximum(0, 1 - 1. / ρρ), '--', label = \"Ideal\")\n",
    "\n",
    "xlim(0, 1.75); ylim(0.001, 1.)\n",
    "legend(loc = 'best')\n",
    "xlabel(\"Load ρ\"); ylabel(\"Probability\")\n",
    "title(\"Average blocking probability\")\n",
    "show()"
   ]
  },
  {
   "cell_type": "code",
   "execution_count": null,
   "metadata": {
    "hidden": true,
    "hide_input": true
   },
   "outputs": [],
   "source": [
    "figure()\n",
    "\n",
    "for nb_in_rg in rg_tokens:\n",
    "    plot(dynamic_tokens_df['rho'], dynamic_tokens_df[str(nb_in_rg) + 'L'], label = \"ℓ = \" + str(nb_in_rg))\n",
    "\n",
    "xlim(0, 1.6); ylim(0, N * max(rg_tokens))\n",
    "legend(loc = 'best')\n",
    "xlabel(\"Load ρ\"); ylabel(\"Number of jobs\")\n",
    "title(\"Mean number of jobs\")\n",
    "show()"
   ]
  },
  {
   "cell_type": "code",
   "execution_count": null,
   "metadata": {
    "hidden": true,
    "hide_input": true
   },
   "outputs": [],
   "source": [
    "figure()\n",
    "\n",
    "for nb_in_rg in rg_tokens:\n",
    "    plot(dynamic_tokens_df['rho'], dynamic_tokens_df[str(nb_in_rg) + 'gamma'],\n",
    "         label = \"ℓ = \" + str(nb_in_rg))\n",
    "\n",
    "xlim(0, 1.6); ylim(0, 2.5)\n",
    "legend(loc = 'best');\n",
    "xlabel(\"Load ρ\"); ylabel(\"Service rate\")\n",
    "title(\"Mean service rate\")\n",
    "show()"
   ]
  },
  {
   "cell_type": "markdown",
   "metadata": {
    "heading_collapsed": true,
    "hidden": true
   },
   "source": [
    "### Impact of the parallelization degree"
   ]
  },
  {
   "cell_type": "code",
   "execution_count": null,
   "metadata": {
    "hidden": true
   },
   "outputs": [],
   "source": [
    "# load external results\n",
    "dynamic_exact_df = pd.read_csv('data/single-dynamic-exact.csv')\n",
    "dynamic_exact_3_df = pd.read_csv('data/single-dynamic-exact-3.csv')\n",
    "dynamic_exact_4_df = pd.read_csv('data/single-dynamic-exact-4.csv')\n",
    "dynamic_exact_5_df = pd.read_csv('data/single-dynamic-exact-5.csv')"
   ]
  },
  {
   "cell_type": "code",
   "execution_count": null,
   "metadata": {
    "hidden": true,
    "hide_input": true
   },
   "outputs": [],
   "source": [
    "# average blocking probability and resource occupancy\n",
    "figure()\n",
    "\n",
    "# dynamic\n",
    "plot(dynamic_exact_df['rho'], dynamic_exact_df['beta'], 'C0', label = \"No parallelization\")\n",
    "plot(dynamic_exact_df['rho'], dynamic_exact_df['eta'], 'C0', label = \"\")\n",
    "\n",
    "# dynamic with 2 pooled servers\n",
    "plot(dynamic_exact_3_df['rho'], dynamic_exact_3_df['beta'],\n",
    "     'C1', label = \"Dynamic - Parallelization over 3 servers\")\n",
    "plot(dynamic_exact_3_df['rho'], dynamic_exact_3_df['eta'], 'C1', label = \"\")\n",
    "\n",
    "# dynamic with 2 pooled servers\n",
    "plot(dynamic_exact_4_df['rho'], dynamic_exact_4_df['beta'],\n",
    "     'C2', label = \"Dynamic - Parallelization over 4 servers\")\n",
    "plot(dynamic_exact_4_df['rho'], dynamic_exact_4_df['eta'], 'C2', label = \"\")\n",
    "\n",
    "# dynamic with 2 pooled servers\n",
    "plot(dynamic_exact_5_df['rho'], dynamic_exact_5_df['beta'],\n",
    "     'C5', label = \"Dynamic - Parallelization over 5 servers\")\n",
    "plot(dynamic_exact_5_df['rho'], dynamic_exact_5_df['eta'], 'C5', label = \"\")\n",
    "\n",
    "# ideal\n",
    "plot(ρρ, maximum(0, 1. - 1. / ρρ), 'C3--', label = \"Ideal\")\n",
    "plot(ρρ, minimum(1, ρρ), 'C3--')\n",
    "\n",
    "# references\n",
    "axvline(x = 2/5, color = 'C4', linestyle = ':')\n",
    "axvline(x = 8/5, color = 'C4', linestyle = ':')\n",
    "\n",
    "xlim(0, 3); ylim(0, 1)\n",
    "legend(loc = 'best')\n",
    "xlabel(\"Load ρ\"); ylabel(\"Job and server metrics\")\n",
    "title(\"Average blocking probability and resource occupancy\")\n",
    "show()"
   ]
  },
  {
   "cell_type": "code",
   "execution_count": null,
   "metadata": {
    "hidden": true,
    "hide_input": true
   },
   "outputs": [],
   "source": [
    "# average blocking probability and resource occupancy\n",
    "figure()\n",
    "\n",
    "# dynamic\n",
    "semilogy(dynamic_exact_df['rho'], dynamic_exact_df['beta'], 'C0',\n",
    "         label = \"No parallelization\")\n",
    "\n",
    "# dynamic with 2 pooled servers\n",
    "semilogy(dynamic_exact_3_df['rho'], dynamic_exact_3_df['beta'], 'C1',\n",
    "         label = \"Parallelization over 3 servers\")\n",
    "\n",
    "# dynamic with 2 pooled servers\n",
    "semilogy(dynamic_exact_4_df['rho'], dynamic_exact_4_df['beta'], 'C2',\n",
    "         label = \"Parallelization over 4 servers\")\n",
    "\n",
    "# dynamic with 2 pooled servers\n",
    "semilogy(dynamic_exact_5_df['rho'], dynamic_exact_5_df['beta'], 'C5',\n",
    "         label = \"Parallelization over 5 servers\")\n",
    "\n",
    "# ideal\n",
    "semilogy(ρρ, maximum(0, 1. - 1. / ρρ), 'C3--', label = \"Ideal\")\n",
    "\n",
    "# reference\n",
    "axvline(x = 2/5, color = 'C4', linestyle = ':')\n",
    "axvline(x = 8/5, color = 'C4', linestyle = ':')\n",
    "\n",
    "xlim(0.8, 1.2); ylim(0.001, 1)\n",
    "legend(loc = 'best')\n",
    "xlabel(\"Load ρ\"); ylabel(\"Job and server metrics\")\n",
    "title(\"Average blocking probability and resource occupancy (N = \" + str(N) + \")\")\n",
    "show()"
   ]
  },
  {
   "cell_type": "code",
   "execution_count": null,
   "metadata": {
    "hidden": true,
    "hide_input": true
   },
   "outputs": [],
   "source": [
    "# mean number of jobs\n",
    "figure()\n",
    "\n",
    "# exact\n",
    "plot(dynamic_exact_df['rho'], dynamic_exact_df['L'],\n",
    "     'C0', label = \"No parallelization\")\n",
    "plot(dynamic_exact_3_df['rho'], dynamic_exact_3_df['L'],\n",
    "     'C1', label = \"Parallelization over 3 servers\")\n",
    "plot(dynamic_exact_4_df['rho'], dynamic_exact_4_df['L'],\n",
    "     'C2', label = \"Parallelization over 4 servers\")\n",
    "plot(dynamic_exact_5_df['rho'], dynamic_exact_5_df['L'],\n",
    "     'C5', label = \"Parallelization over 5 servers\")\n",
    "\n",
    "# reference\n",
    "axvline(x = 2/5, color = 'C4', linestyle = ':')\n",
    "axvline(x = 8/5, color = 'C4', linestyle = ':')\n",
    "\n",
    "xlim(0, 3); ylim(0, sum(ℓ))\n",
    "legend(loc = 'best')\n",
    "title(\"Mean number of jobs\")\n",
    "xlabel(\"Load ρ\"); ylabel(\"Number of jobs\")\n",
    "show()"
   ]
  },
  {
   "cell_type": "code",
   "execution_count": null,
   "metadata": {
    "hidden": true,
    "hide_input": true
   },
   "outputs": [],
   "source": [
    "# mean service rate\n",
    "figure()\n",
    "\n",
    "# exact\n",
    "plot(dynamic_exact_df['rho'], dynamic_exact_df['gamma'], 'C0',\n",
    "     label = \"No parallelization\")\n",
    "plot(dynamic_exact_3_df['rho'], dynamic_exact_3_df['gamma'], 'C1',\n",
    "     label = \"Parallelization over 3 servers\")\n",
    "plot(dynamic_exact_4_df['rho'], dynamic_exact_4_df['gamma'], 'C2',\n",
    "     label = \"Parallelization over 4 servers\")\n",
    "plot(dynamic_exact_5_df['rho'], dynamic_exact_5_df['gamma'], 'C5',\n",
    "     label = \"Parallelization over 5 servers\")\n",
    "\n",
    "# reference\n",
    "axvline(x = 2/5, color = 'C4', linestyle = ':')\n",
    "axvline(x = 8/5, color = 'C4', linestyle = ':')\n",
    "axhline(y = 2.5 / nb_tokens, color = 'C4', linestyle = ':')\n",
    "\n",
    "xlim(0, 3); ylim(ymin = 0)\n",
    "legend(loc = 'best')\n",
    "xlabel(\"Load ρ\"); ylabel(\"Service rate\")\n",
    "title(\"Mean service rate\")\n",
    "show()"
   ]
  },
  {
   "cell_type": "markdown",
   "metadata": {
    "heading_collapsed": true
   },
   "source": [
    "## Two job types"
   ]
  },
  {
   "cell_type": "markdown",
   "metadata": {
    "hidden": true
   },
   "source": [
    "We consider the second scenario in the paper.\n",
    "There are $N = 10$ servers, each with $\\ell = 6$ tokens.\n",
    "All servers have the same unit service capacity $\\mu$.\n",
    "There are two job types.\n",
    "The jobs of the first type arrive at a unit rate $\\nu$\n",
    "and can be assigned to any of the first seven servers.\n",
    "The jobs of the second type arrive at rate $4 \\nu$\n",
    "and can be assigned to any of the last seven servers."
   ]
  },
  {
   "cell_type": "code",
   "execution_count": null,
   "metadata": {
    "hidden": true
   },
   "outputs": [],
   "source": [
    "# parameters\n",
    "N = 10\n",
    "μ = ones(N)\n",
    "ℓ = nb_tokens * ones(N, dtype = int)"
   ]
  },
  {
   "cell_type": "markdown",
   "metadata": {
    "heading_collapsed": true,
    "hidden": true,
    "hide_input": true
   },
   "source": [
    "### Comparison with the static load balancings"
   ]
  },
  {
   "cell_type": "code",
   "execution_count": null,
   "metadata": {
    "hidden": true
   },
   "outputs": [],
   "source": [
    "# load the external results\n",
    "best_static_df = pd.read_csv('data/multi-best-static-exact.csv')\n",
    "uni_static_df = pd.read_csv('data/multi-uni-static-exact.csv')\n",
    "dynamic_exact_df = pd.read_csv('data/multi-dynamic-exact.csv')\n",
    "dynamic_hyp_df = pd.read_csv('data/multi-dynamic-simu-hyperexp.csv')"
   ]
  },
  {
   "cell_type": "code",
   "execution_count": null,
   "metadata": {
    "hidden": true,
    "hide_input": true
   },
   "outputs": [],
   "source": [
    "# average blocking probability and resource occupancy\n",
    "figure()\n",
    "\n",
    "# dynamic - exact\n",
    "plot(dynamic_exact_df['rho'], dynamic_exact_df['beta'], 'C0', label = \"Dynamic\")\n",
    "plot(dynamic_exact_df['rho'], dynamic_exact_df['eta'], 'C0', label = \"\")\n",
    "\n",
    "# dynamic - simulations with hyperexponentially distributed sizes\n",
    "plot(dynamic_hyp_df['rho'], dynamic_hyp_df['beta'], 'C0x', label = \"\")\n",
    "fill_between(dynamic_hyp_df['rho'],\n",
    "             dynamic_hyp_df['beta'] - dynamic_hyp_df['wbeta'],\n",
    "             dynamic_hyp_df['beta'] + dynamic_hyp_df['wbeta'], \n",
    "             color = 'C0', alpha = .4)\n",
    "plot(dynamic_hyp_df['rho'], dynamic_hyp_df['eta'], 'C0x', label = \"\")\n",
    "fill_between(dynamic_hyp_df['rho'],\n",
    "             dynamic_hyp_df['eta'] - dynamic_hyp_df['weta'],\n",
    "             dynamic_hyp_df['eta'] + dynamic_hyp_df['weta'], \n",
    "             color = 'C0', alpha = .4)\n",
    "\n",
    "# best static\n",
    "plot(best_static_df['rho'], best_static_df['beta'], 'C1', label = \"Best static\")\n",
    "plot(best_static_df['rho'], best_static_df['eta'], 'C1', label = \"\")\n",
    "\n",
    "# uniform static\n",
    "plot(uni_static_df['rho'], uni_static_df['beta'], 'C2', label = \"Uniform static\")\n",
    "plot(uni_static_df['rho'], uni_static_df['eta'], 'C2', label = \"\")\n",
    "\n",
    "# ideal\n",
    "ideal_blocking = maximum(maximum(0, 1. - 1. / ρρ), \n",
    "                         (1./5.) * maximum(0, 1. - (7./2.) / ρρ) + (4./5.) * maximum(0, 1. - (7./8.) / ρρ))\n",
    "plot(ρρ, ideal_blocking, 'C3--', label = \"Ideal\")\n",
    "plot(ρρ, ρρ * (1. - ideal_blocking), 'C3--')\n",
    "\n",
    "# references\n",
    "axvline(x = 7/10, color = 'C6', linestyle = ':')\n",
    "axvline(x = 7/8, color = 'C6', linestyle = ':')\n",
    "axvline(x = 1, color = 'C6', linestyle = ':')\n",
    "axvline(x = 3/2, color = 'C6', linestyle = ':')\n",
    "axvline(x = 7/2, color = 'C6', linestyle = ':')\n",
    "\n",
    "xlim(0, 5); ylim(0, 1)\n",
    "legend(loc = 'best')\n",
    "xlabel(\"Load ρ\"); ylabel(\"Job and server metrics\")\n",
    "title(\"Average blocking probability and resource occupancy\")\n",
    "show()"
   ]
  },
  {
   "cell_type": "code",
   "execution_count": null,
   "metadata": {
    "cell_style": "center",
    "hidden": true,
    "hide_input": true
   },
   "outputs": [],
   "source": [
    "# mean number of jobs\n",
    "figure()\n",
    "\n",
    "# exact\n",
    "plot(dynamic_exact_df['rho'], dynamic_exact_df['L'], 'C0', label = \"Dynamic\")\n",
    "plot(best_static_df['rho'], best_static_df['L'], 'C1', label = \"Best static\")\n",
    "plot(uni_static_df['rho'], uni_static_df['L'], 'C2', label = \"Uniform static\")\n",
    "\n",
    "# simulations - hyperexponentially distributed job sizes\n",
    "plot(dynamic_hyp_df['rho'], dynamic_hyp_df['L'], 'C0x', label = \"\")\n",
    "fill_between(dynamic_hyp_df['rho'],\n",
    "             dynamic_hyp_df['L'] - dynamic_hyp_df['wL'],\n",
    "             dynamic_hyp_df['L'] + dynamic_hyp_df['wL'], \n",
    "             color = 'C0', alpha = .4)\n",
    "\n",
    "# references\n",
    "axvline(x = 7/10, color = 'C6', linestyle = ':')\n",
    "axvline(x = 7/8, color = 'C6', linestyle = ':')\n",
    "axvline(x = 1, color = 'C6', linestyle = ':')\n",
    "axvline(x = 3/2, color = 'C6', linestyle = ':')\n",
    "axvline(x = 7/2, color = 'C6', linestyle = ':')\n",
    "axhline(y = sum(ℓ), color = 'C4', linestyle=':')\n",
    "\n",
    "xlim(0, 3); ylim(ymin = 0)\n",
    "legend(loc = 'best')\n",
    "xlabel(\"Load ρ\"); ylabel(\"Number of jobs\")\n",
    "title(\"Mean number of jobs\")\n",
    "show()"
   ]
  },
  {
   "cell_type": "code",
   "execution_count": null,
   "metadata": {
    "cell_style": "center",
    "hidden": true,
    "hide_input": true
   },
   "outputs": [],
   "source": [
    "# mean service rate\n",
    "figure()\n",
    "\n",
    "# exact\n",
    "plot(dynamic_exact_df['rho'], dynamic_exact_df['gamma'], label = \"Dynamic\")\n",
    "plot(best_static_df['rho'], best_static_df['gamma'], 'C1', label = \"Best static\")\n",
    "plot(uni_static_df['rho'], uni_static_df['gamma'], 'C2', label = \"Uniform static\")\n",
    "\n",
    "# simulations - hyperexponentially distributed job sizes\n",
    "plot(dynamic_hyp_df['rho'], dynamic_hyp_df['gamma'], 'C0x', label = \"\")\n",
    "fill_between(dynamic_hyp_df['rho'],\n",
    "             dynamic_hyp_df['gamma'] - dynamic_hyp_df['wgamma'],\n",
    "             dynamic_hyp_df['gamma'] + dynamic_hyp_df['wgamma'], \n",
    "             color = 'C0', alpha = .4)\n",
    "\n",
    "# references\n",
    "axvline(x = 7/10, color = 'C6', linestyle = ':')\n",
    "axvline(x = 7/8, color = 'C6', linestyle = ':')\n",
    "axvline(x = 1, color = 'C6', linestyle = ':')\n",
    "axvline(x = 3/2, color = 'C6', linestyle = ':')\n",
    "axvline(x = 7/2, color = 'C6', linestyle = ':')\n",
    "axhline(y = 1 / nb_tokens, color = 'C4', linestyle = ':')\n",
    "\n",
    "xlim(0, 3); ylim(0, 1)\n",
    "legend(loc = 'best')\n",
    "xlabel(\"Load ρ\"); ylabel(\"Service rate\")\n",
    "title(\"Mean service rate\")\n",
    "show()"
   ]
  },
  {
   "cell_type": "markdown",
   "metadata": {
    "heading_collapsed": true,
    "hidden": true
   },
   "source": [
    "### Per-server metrics"
   ]
  },
  {
   "cell_type": "code",
   "execution_count": null,
   "metadata": {
    "hidden": true
   },
   "outputs": [],
   "source": [
    "# load the external results\n",
    "best_static_df = pd.read_csv('data/multi-best-static-exact.csv')\n",
    "uni_static_df = pd.read_csv('data/multi-uni-static-exact.csv')\n",
    "dynamic_exact_df = pd.read_csv('data/multi-dynamic-exact.csv')"
   ]
  },
  {
   "cell_type": "code",
   "execution_count": null,
   "metadata": {
    "hidden": true,
    "hide_input": true
   },
   "outputs": [],
   "source": [
    "# probability that each server is idle\n",
    "figure()\n",
    "\n",
    "# dynamic\n",
    "plot(dynamic_exact_df['rho'], dynamic_exact_df['psii1'],\n",
    "     'C0', label = \"$ψ_{\\{i = 1\\}} = \\ldots ψ_{\\{i = 3\\}}$\")\n",
    "plot(dynamic_exact_df['rho'], dynamic_exact_df['psii4'],\n",
    "     'C1', label = \"$ψ_{\\{i = 4\\}} = \\ldots ψ_{\\{i = 7\\}}$\")\n",
    "plot(dynamic_exact_df['rho'], dynamic_exact_df['psii8'],\n",
    "     'C2--', label = \"$ψ_{\\{i = 8\\}} = \\ldots ψ_{\\{i = 10\\}}$\")\n",
    "\n",
    "# references\n",
    "axvline(x = 7/10, color = 'C6', linestyle = ':')\n",
    "axvline(x = 7/8, color = 'C6', linestyle = ':')\n",
    "axvline(x = 1, color = 'C6', linestyle = ':')\n",
    "axvline(x = 3/2, color = 'C6', linestyle = ':')\n",
    "axvline(x = 7/2, color = 'C6', linestyle = ':')\n",
    "\n",
    "plot(ρρ, 1. - (2/3) * ρρ, color = 'C5', linestyle = ':')\n",
    "plot(ρρ, 1. - (8/7) * ρρ, color = 'C5', linestyle = ':')\n",
    "\n",
    "xlim(0, 3); ylim(0, 1)\n",
    "legend(loc = 'best')\n",
    "xlabel(\"Load ρ\"); ylabel(\"Probability\")\n",
    "title(\"Probability that each server is idle under dynamic\")\n",
    "show()"
   ]
  },
  {
   "cell_type": "code",
   "execution_count": null,
   "metadata": {
    "hidden": true,
    "hide_input": true
   },
   "outputs": [],
   "source": [
    "# probability that each server is idle\n",
    "figure()\n",
    "\n",
    "# dynamic\n",
    "plot(dynamic_exact_df['rho'], dynamic_exact_df['psii1'], 'C0', label = \"Dynamic\")\n",
    "plot(dynamic_exact_df['rho'], dynamic_exact_df['psii4'], 'C0', label = \"\")\n",
    "plot(dynamic_exact_df['rho'], dynamic_exact_df['psii8'], 'C0', label = \"\")\n",
    "\n",
    "# best static\n",
    "plot(uni_static_df['rho'], uni_static_df['psii1'], 'C2', label = \"Uniform static\")\n",
    "plot(uni_static_df['rho'], uni_static_df['psii4'], 'C2', label = \"\")\n",
    "plot(uni_static_df['rho'], uni_static_df['psii8'], 'C2', label = \"\")\n",
    "\n",
    "# best static\n",
    "plot(best_static_df['rho'], best_static_df['psii1'], 'C1--', label = \"Best static\")\n",
    "plot(best_static_df['rho'], best_static_df['psii4'], 'C1--', label = \"\")\n",
    "plot(best_static_df['rho'], best_static_df['psii8'], 'C1--', label = \"\")\n",
    "\n",
    "# references\n",
    "axvline(x = 7/10, color = 'C6', linestyle = ':')\n",
    "axvline(x = 7/8, color = 'C6', linestyle = ':')\n",
    "axvline(x = 1, color = 'C6', linestyle = ':')\n",
    "axvline(x = 3/2, color = 'C6', linestyle = ':')\n",
    "axvline(x = 7/2, color = 'C6', linestyle = ':')\n",
    "\n",
    "plot(ρρ, 1. - (2/3) * ρρ, color = 'C5', linestyle = ':')\n",
    "plot(ρρ, 1. - (8/7) * ρρ, color = 'C5', linestyle = ':')\n",
    "\n",
    "xlim(0, 3); ylim(0, 1)\n",
    "legend(loc = 'best')\n",
    "xlabel(\"Load ρ\"); ylabel(\"Probability\")\n",
    "title(\"Probability that each server is idle\")\n",
    "show()"
   ]
  },
  {
   "cell_type": "markdown",
   "metadata": {
    "heading_collapsed": true,
    "hidden": true,
    "hide_input": true
   },
   "source": [
    "### Per-type performance and insensitivity"
   ]
  },
  {
   "cell_type": "code",
   "execution_count": null,
   "metadata": {
    "hidden": true
   },
   "outputs": [],
   "source": [
    "# load external results\n",
    "dynamic_exact_df = pd.read_csv('data/multi-dynamic-exact.csv')\n",
    "dynamic_exp_df = pd.read_csv('data/multi-dynamic-simu-exp.csv')\n",
    "dynamic_hyp_df = pd.read_csv('data/multi-dynamic-simu-hyperexp.csv')"
   ]
  },
  {
   "cell_type": "code",
   "execution_count": null,
   "metadata": {
    "hidden": true,
    "hide_input": true
   },
   "outputs": [],
   "source": [
    "# averate blocking probability\n",
    "figure()\n",
    "\n",
    "# exact\n",
    "plot(dynamic_exact_df['rho'], dynamic_exact_df['beta'], 'C0', label = \"$β$\")\n",
    "plot(dynamic_exact_df['rho'], dynamic_exact_df['betak1'], 'C1', label = \"$β_{\\{k = 1\\}}$\")\n",
    "plot(dynamic_exact_df['rho'], dynamic_exact_df['betak2'], 'C2', label = \"$β_{\\{k = 2\\}}$\")\n",
    "\n",
    "# simulations - hyperexponentially distributed job sizes\n",
    "plot(dynamic_hyp_df['rho'], dynamic_hyp_df['beta'], 'C0x', label = \"\")\n",
    "fill_between(dynamic_hyp_df['rho'],\n",
    "             dynamic_hyp_df['beta'] - dynamic_hyp_df['wbeta'],\n",
    "             dynamic_hyp_df['beta'] + dynamic_hyp_df['wbeta'], \n",
    "             color = 'C0', alpha = .4)\n",
    "plot(dynamic_hyp_df['rho'], dynamic_hyp_df['betak1'], 'C1x', label = \"\")\n",
    "fill_between(dynamic_hyp_df['rho'],\n",
    "             dynamic_hyp_df['betak1'] - dynamic_hyp_df['wbetak1'],\n",
    "             dynamic_hyp_df['betak1'] + dynamic_hyp_df['wbetak1'], \n",
    "             color = 'C1', alpha = .4)\n",
    "plot(dynamic_hyp_df['rho'], dynamic_hyp_df['betak2'], 'C2x', label = \"\")\n",
    "fill_between(dynamic_hyp_df['rho'],\n",
    "             dynamic_hyp_df['betak2'] - dynamic_hyp_df['wbetak2'],\n",
    "             dynamic_hyp_df['betak2'] + dynamic_hyp_df['wbetak2'], \n",
    "             color = 'C2', alpha = .4)\n",
    "\n",
    "# references\n",
    "axvline(x = 7/10, color = 'C6', linestyle = ':')\n",
    "axvline(x = 7/8, color = 'C6', linestyle = ':')\n",
    "axvline(x = 1, color = 'C6', linestyle = ':')\n",
    "axvline(x = 3/2, color = 'C6', linestyle = ':')\n",
    "axvline(x = 7/2, color = 'C6', linestyle = ':')\n",
    "\n",
    "xlim(0, 3); ylim(ymin = 0)\n",
    "legend(loc = 'best')\n",
    "xlabel(\"Load ρ\"); ylabel(\"Probability\")\n",
    "title(\"Per-type blocking probability\")\n",
    "show()"
   ]
  },
  {
   "cell_type": "code",
   "execution_count": null,
   "metadata": {
    "cell_style": "center",
    "hidden": true,
    "hide_input": true
   },
   "outputs": [],
   "source": [
    "# mean number of jobs at each server\n",
    "figure()\n",
    "\n",
    "# exact\n",
    "plot(dynamic_exact_df['rho'], dynamic_exact_df['Li1'],\n",
    "     'C1', label = \"$L_{\\{i = 1\\}} = L_{\\{i = 2\\}} = L_{\\{i = 3\\}}$\")\n",
    "plot(dynamic_exact_df['rho'], dynamic_exact_df['Li4'],\n",
    "     'C2', label = \"$L_{\\{i = 4\\}} = L_{\\{i = 5\\}} = L_{\\{i = 6\\}}$\")\n",
    "plot(dynamic_exact_df['rho'], dynamic_exact_df['Li7'],\n",
    "     'C3--', label = \"$L_{\\{i = 7\\}} = L_{\\{i = 8\\}} = L_{\\{i = 9\\}}$\")\n",
    "\n",
    "# simulations - hyperexponentially distributed job sizes\n",
    "plot(dynamic_hyp_df['rho'], dynamic_hyp_df['Li1'], 'C1x', label = \"\")\n",
    "fill_between(dynamic_hyp_df['rho'],\n",
    "             dynamic_hyp_df['Li1'] - dynamic_hyp_df['wLi1'],\n",
    "             dynamic_hyp_df['Li1'] + dynamic_hyp_df['wLi1'], \n",
    "             color = 'C1', alpha = .4)\n",
    "plot(dynamic_hyp_df['rho'], dynamic_hyp_df['Li4'], 'C2*', label = \"\")\n",
    "fill_between(dynamic_hyp_df['rho'],\n",
    "             dynamic_hyp_df['Li4'] - dynamic_hyp_df['wLi4'],\n",
    "             dynamic_hyp_df['Li4'] + dynamic_hyp_df['wLi4'], \n",
    "             color = 'C2', alpha = .4)\n",
    "plot(dynamic_hyp_df['rho'], dynamic_hyp_df['Li8'], 'C3x', label = \"\")\n",
    "fill_between(dynamic_hyp_df['rho'],\n",
    "             dynamic_hyp_df['Li8'] - dynamic_hyp_df['wLi8'],\n",
    "             dynamic_hyp_df['Li8'] + dynamic_hyp_df['wLi8'], \n",
    "             color = 'C3', alpha = .4)\n",
    "\n",
    "# references\n",
    "axvline(x = 7/10, color = 'C6', linestyle = ':')\n",
    "axvline(x = 7/8, color = 'C6', linestyle = ':')\n",
    "axvline(x = 1, color = 'C6', linestyle = ':')\n",
    "axvline(x = 3/2, color = 'C6', linestyle = ':')\n",
    "axvline(x = 7/2, color = 'C6', linestyle = ':')\n",
    "\n",
    "axhline(y = 3 * nb_tokens, color = 'C4', linestyle=':')\n",
    "axhline(y = 4 * nb_tokens, color = 'C4', linestyle=':')\n",
    "axhline(y = 10 * nb_tokens, color = 'C4', linestyle=':')\n",
    "\n",
    "xlim(0, 3); ylim(0, nb_tokens)\n",
    "legend(loc = 'best')\n",
    "xlabel(\"Load ρ\"); ylabel(\"Number of jobs\")\n",
    "title(\"Mean number of jobs\")\n",
    "show()"
   ]
  },
  {
   "cell_type": "code",
   "execution_count": null,
   "metadata": {
    "cell_style": "center",
    "hidden": true,
    "hide_input": true
   },
   "outputs": [],
   "source": [
    "# mean number of jobs of each type\n",
    "figure()\n",
    "\n",
    "# exact\n",
    "plot(dynamic_exact_df['rho'], dynamic_exact_df['L'], 'C0', label = \"$L$\")\n",
    "plot(dynamic_exact_df['rho'], dynamic_exact_df['Li1'] + dynamic_exact_df['Li2'] + dynamic_exact_df['Li3'],\n",
    "     'C3', label = \"$L_{\\{i = 1\\}} + \\ldots + L_{\\{i = 3\\}}$\")\n",
    "plot(dynamic_exact_df['rho'],\n",
    "      dynamic_exact_df['Li4'] + dynamic_exact_df['Li5'] + dynamic_exact_df['Li6'] + dynamic_exact_df['Li7']\n",
    "     + dynamic_exact_df['Li8'] + dynamic_exact_df['Li9'] + dynamic_exact_df['Li10'],\n",
    "     'C4', label = \"$L_{\\{i = 4\\}} + \\ldots + L_{\\{i = 10\\}}$\")\n",
    "\n",
    "# simulations - exponentially distributed job sizes\n",
    "plot(dynamic_exp_df['rho'], dynamic_exp_df['L'], 'C0+', label = \"\")\n",
    "fill_between(dynamic_exp_df['rho'],\n",
    "             dynamic_exp_df['L'] - dynamic_exp_df['wL'],\n",
    "             dynamic_exp_df['L'] + dynamic_exp_df['wL'], \n",
    "             color = 'C0', alpha = .4)\n",
    "plot(dynamic_exp_df['rho'], dynamic_exp_df['Lk1'], 'C1+', label = \"$L_{\\{k = 1\\}}$ - Exp.\")\n",
    "fill_between(dynamic_exp_df['rho'],\n",
    "             dynamic_exp_df['Lk1'] - dynamic_exp_df['wLk1'],\n",
    "             dynamic_exp_df['Lk1'] + dynamic_exp_df['wLk1'], \n",
    "             color = 'C1', alpha = .4)\n",
    "plot(dynamic_exp_df['rho'], dynamic_exp_df['Lk2'], 'C2+', label = \"$L_{\\{k = 2\\}}$ - Exp.\")\n",
    "fill_between(dynamic_exp_df['rho'],\n",
    "             dynamic_exp_df['Lk2'] - dynamic_exp_df['wLk2'],\n",
    "             dynamic_exp_df['Lk2'] + dynamic_exp_df['wLk2'], \n",
    "             color = 'C2', alpha = .4)\n",
    "\n",
    "# simulations - hyperexponentially distributed job sizes\n",
    "plot(dynamic_hyp_df['rho'], dynamic_hyp_df['L'], 'C0x', label = \"\")\n",
    "fill_between(dynamic_hyp_df['rho'],\n",
    "             dynamic_hyp_df['L'] - dynamic_hyp_df['wL'],\n",
    "             dynamic_hyp_df['L'] + dynamic_hyp_df['wL'], \n",
    "             color = 'C0', alpha = .4)\n",
    "plot(dynamic_hyp_df['rho'], dynamic_hyp_df['Lk1'], 'C1x', label = \"$L_{\\{k = 1\\}}$ - Hyp.\")\n",
    "fill_between(dynamic_hyp_df['rho'],\n",
    "             dynamic_hyp_df['Lk1'] - dynamic_hyp_df['wLk1'],\n",
    "             dynamic_hyp_df['Lk1'] + dynamic_hyp_df['wLk1'], \n",
    "             color = 'C1', alpha = .4)\n",
    "plot(dynamic_hyp_df['rho'], dynamic_hyp_df['Lk2'], 'C2x', label = \"$L_{\\{k = 2\\}}$ - Hyp.\")\n",
    "fill_between(dynamic_hyp_df['rho'],\n",
    "             dynamic_hyp_df['Lk2'] - dynamic_hyp_df['wLk2'],\n",
    "             dynamic_hyp_df['Lk2'] + dynamic_hyp_df['wLk2'], \n",
    "             color = 'C2', alpha = .4)\n",
    "\n",
    "plot(dynamic_hyp_df['rho'], dynamic_hyp_df['Li1'] + dynamic_hyp_df['Li2'] + dynamic_hyp_df['Li3'], 'C3x')\n",
    "plot(dynamic_hyp_df['rho'],\n",
    "     dynamic_hyp_df['Li4'] + dynamic_hyp_df['Li5'] + dynamic_hyp_df['Li6'] + dynamic_hyp_df['Li7']\n",
    "     + dynamic_hyp_df['Li8'] + dynamic_hyp_df['Li9'] + dynamic_hyp_df['Li10'],\n",
    "     'C4x')\n",
    "\n",
    "# reference\n",
    "axvline(x = 7/10, color = 'C6', linestyle = ':')\n",
    "axvline(x = 7/8, color = 'C6', linestyle = ':')\n",
    "axvline(x = 1, color = 'C6', linestyle = ':')\n",
    "axvline(x = 3/2, color = 'C6', linestyle = ':')\n",
    "axvline(x = 7/2, color = 'C6', linestyle = ':')\n",
    "\n",
    "axhline(y = 3 * nb_tokens, color = 'C4', linestyle=':')\n",
    "axhline(y = 7 * nb_tokens, color = 'C4', linestyle=':')\n",
    "axhline(y = 10 * nb_tokens, color = 'C4', linestyle=':')\n",
    "\n",
    "xlim(0, 3); ylim(0, sum(ℓ))\n",
    "legend(loc = \"center left\", bbox_to_anchor = (1, .5))\n",
    "title(\"Mean number of jobs\")\n",
    "xlabel(\"Load ρ\"); ylabel(\"Number of jobs\")\n",
    "show()"
   ]
  },
  {
   "cell_type": "code",
   "execution_count": null,
   "metadata": {
    "cell_style": "center",
    "hidden": true,
    "hide_input": true
   },
   "outputs": [],
   "source": [
    "# mean service rate\n",
    "figure()\n",
    "\n",
    "# exact\n",
    "plot(dynamic_exact_df['rho'], dynamic_exact_df['gamma'], 'C0',\n",
    "     label = \"$γ$\")\n",
    "plot(dynamic_exact_df['rho'], dynamic_exact_df['gammai1'], 'C1',\n",
    "     label = '$γ_{\\{i = 1\\}} = \\ldots = γ_{i = 3\\}}$')\n",
    "plot(dynamic_exact_df['rho'], dynamic_exact_df['gammai4'], 'C2',\n",
    "     label = '$γ_{\\{i = 4\\}} = \\ldots = γ_{\\{i = 7\\}}$')\n",
    "plot(dynamic_exact_df['rho'], dynamic_exact_df['gammai8'], 'C3--',\n",
    "     label = '$γ_{\\{i = 8\\}} = \\ldots = γ_{\\{i = 10\\}}$')\n",
    "\n",
    "# simulations - exponentially distributed job sizes\n",
    "plot(dynamic_exp_df['rho'], dynamic_exp_df['gammak1'], 'C4+', label = \"$γ_{\\{k = 1\\}}$ - Exp.\")\n",
    "fill_between(dynamic_exp_df['rho'],\n",
    "             dynamic_exp_df['gammak1'] - dynamic_exp_df['wgammak1'],\n",
    "             dynamic_exp_df['gammak1'] + dynamic_exp_df['wgammak1'], \n",
    "             color = 'C4', alpha = .4)\n",
    "plot(dynamic_exp_df['rho'], dynamic_exp_df['gammak2'], 'C6+', label = \"$γ_{\\{k = 2\\}}$ - Exp.\")\n",
    "fill_between(dynamic_exp_df['rho'],\n",
    "             dynamic_exp_df['gammak2'] - dynamic_exp_df['wgammak2'],\n",
    "             dynamic_exp_df['gammak2'] + dynamic_exp_df['wgammak2'], \n",
    "             color = 'C6', alpha = .4)\n",
    "\n",
    "# simulations - hyperexponentially distributed job sizes\n",
    "plot(dynamic_hyp_df['rho'], dynamic_hyp_df['gammak1'], 'C4x', label = \"$γ_{\\{k = 1\\}}$ - Hyp.\")\n",
    "fill_between(dynamic_hyp_df['rho'],\n",
    "             dynamic_hyp_df['gammak1'] - dynamic_hyp_df['wgammak1'],\n",
    "             dynamic_hyp_df['gammak1'] + dynamic_hyp_df['wgammak1'], \n",
    "             color = 'C4', alpha = .4)\n",
    "plot(dynamic_hyp_df['rho'], dynamic_hyp_df['gammak2'], 'C6x', label = \"$γ_{\\{k = 2\\}}$ - Hyp.\")\n",
    "fill_between(dynamic_hyp_df['rho'],\n",
    "             dynamic_hyp_df['gammak2'] - dynamic_hyp_df['wgammak2'],\n",
    "             dynamic_hyp_df['gammak2'] + dynamic_hyp_df['wgammak2'], \n",
    "             color = 'C6', alpha = .4)\n",
    "\n",
    "# references\n",
    "axvline(x = 7/10, color = 'C6', linestyle = ':')\n",
    "axvline(x = 7/8, color = 'C6', linestyle = ':')\n",
    "axvline(x = 1, color = 'C6', linestyle = ':')\n",
    "axvline(x = 3/2, color = 'C6', linestyle = ':')\n",
    "axvline(x = 7/2, color = 'C6', linestyle = ':')\n",
    "\n",
    "axhline(y = 1 / nb_tokens, color = 'C4', linestyle = ':')\n",
    "\n",
    "plot(ρρ, 1. - (20/21) * ρρ, color = 'C4', linestyle = ':')\n",
    "plot(ρρ, 1. - (5/9) * ρρ, color = 'C4', linestyle = ':')\n",
    "\n",
    "xlim(0, 3); ylim(0, 1)\n",
    "legend(loc = 'best')\n",
    "xlabel(\"Load ρ\"); ylabel(\"Service rate\")\n",
    "title(\"Mean service rate\")\n",
    "show()"
   ]
  },
  {
   "cell_type": "code",
   "execution_count": null,
   "metadata": {
    "hidden": true,
    "hide_input": true
   },
   "outputs": [],
   "source": [
    "# idling probability\n",
    "figure()\n",
    "\n",
    "# exact\n",
    "plot(dynamic_exact_df['rho'], dynamic_exact_df['psii1'], 'C1',\n",
    "     label = \"$ψ_{\\{i = 1\\}} = \\ldots = ψ_{\\{i = 3\\}}$\")\n",
    "plot(dynamic_exact_df['rho'], dynamic_exact_df['psii4'], 'C2',\n",
    "     label = \"$ψ_{\\{i = 4\\}} = \\ldots = ψ_{\\{i = 7\\}}$\")\n",
    "plot(dynamic_exact_df['rho'], dynamic_exact_df['psii7'], 'C3--',\n",
    "     label = \"$ψ_{\\{i = 8\\}} = \\ldots = ψ_{\\{i = 10\\}}$\")\n",
    "\n",
    "# simulations - exponentially distributed job sizes\n",
    "plot(dynamic_exp_df['rho'], dynamic_exp_df['psii1'], 'C1+', label = \"\")\n",
    "fill_between(dynamic_exp_df['rho'],\n",
    "             dynamic_exp_df['psii1'] - dynamic_exp_df['wpsii1'],\n",
    "             dynamic_exp_df['psii1'] + dynamic_exp_df['wpsii1'], \n",
    "             color = 'C1', alpha = .4)\n",
    "plot(dynamic_exp_df['rho'], dynamic_exp_df['psii4'], 'C2+', label = \"\")\n",
    "fill_between(dynamic_exp_df['rho'],\n",
    "             dynamic_exp_df['psii4'] - dynamic_exp_df['wpsii4'],\n",
    "             dynamic_exp_df['psii4'] + dynamic_exp_df['wpsii4'], \n",
    "             color = 'C2', alpha = .4)\n",
    "plot(dynamic_exp_df['rho'], dynamic_exp_df['psii8'], 'C3+', label = \"\")\n",
    "fill_between(dynamic_exp_df['rho'],\n",
    "             dynamic_exp_df['psii8'] - dynamic_exp_df['wpsii8'],\n",
    "             dynamic_exp_df['psii8'] + dynamic_exp_df['wpsii8'], \n",
    "             color = 'C3', alpha = .4)\n",
    "\n",
    "# simulations - hyperexponentially distributed job sizes\n",
    "plot(dynamic_hyp_df['rho'], dynamic_hyp_df['psii1'], 'C1x', label = \"\")\n",
    "fill_between(dynamic_hyp_df['rho'],\n",
    "             dynamic_hyp_df['psii1'] - dynamic_hyp_df['wpsii1'],\n",
    "             dynamic_hyp_df['psii1'] + dynamic_hyp_df['wpsii1'], \n",
    "             color = 'C1', alpha = .4)\n",
    "plot(dynamic_hyp_df['rho'], dynamic_hyp_df['psii4'], 'C2x', label = \"\")\n",
    "fill_between(dynamic_hyp_df['rho'],\n",
    "             dynamic_hyp_df['psii4'] - dynamic_hyp_df['wpsii4'],\n",
    "             dynamic_hyp_df['psii4'] + dynamic_hyp_df['wpsii4'], \n",
    "             color = 'C2', alpha = .4)\n",
    "plot(dynamic_hyp_df['rho'], dynamic_hyp_df['psii8'], 'C3x', label = \"\")\n",
    "fill_between(dynamic_hyp_df['rho'],\n",
    "             dynamic_hyp_df['psii8'] - dynamic_hyp_df['wpsii8'],\n",
    "             dynamic_hyp_df['psii8'] + dynamic_hyp_df['wpsii8'], \n",
    "             color = 'C3', alpha = .4)\n",
    "\n",
    "# references\n",
    "axvline(x = 7/10, color = 'C6', linestyle = ':')\n",
    "axvline(x = 7/8, color = 'C6', linestyle = ':')\n",
    "axvline(x = 1, color = 'C6', linestyle = ':')\n",
    "axvline(x = 3/2, color = 'C6', linestyle = ':')\n",
    "axvline(x = 7/2, color = 'C6', linestyle = ':')\n",
    "\n",
    "plot(ρρ, 1. - (2/3) * ρρ, color = 'C5', linestyle = ':')\n",
    "plot(ρρ, 1. - (8/7) * ρρ, color = 'C5', linestyle = ':')\n",
    "\n",
    "xlim(0, 3); ylim(0, 1)\n",
    "legend(loc = 'best')\n",
    "xlabel(\"Load ρ\"); ylabel(\"Probability\")\n",
    "title(\"Probability that each server is idle\")\n",
    "xlabel(\"Load ρ\"); ylabel(\"Probability\")\n",
    "show()"
   ]
  },
  {
   "cell_type": "markdown",
   "metadata": {
    "hidden": true
   },
   "source": [
    "We verify the maximum width of the asymptotic confidence intervals for the metrics that are plotted in the paper:"
   ]
  },
  {
   "cell_type": "code",
   "execution_count": null,
   "metadata": {
    "hidden": true,
    "hide_input": false
   },
   "outputs": [],
   "source": [
    "print('Maximum width of the asymptotic 95% confidence interval with the exponential job size distribution:')\n",
    "for variable in ['Lk1', 'Lk2']:\n",
    "    print(variable + ' : %f' % nanmax(dynamic_exp_df['w' + variable]))"
   ]
  },
  {
   "cell_type": "code",
   "execution_count": null,
   "metadata": {
    "hidden": true,
    "hide_input": false
   },
   "outputs": [],
   "source": [
    "print('Maximum width of the asymptotic 95% confidence interval with the hyperexponential job size distribution:')\n",
    "for variable in ['betak1', 'betak2', 'Lk1', 'Lk2']:\n",
    "    print(variable + ' : %f' % nanmax(dynamic_hyp_df['w' + variable]))"
   ]
  },
  {
   "cell_type": "markdown",
   "metadata": {
    "hidden": true
   },
   "source": [
    "For the simulation results presented in the paper, the values were as follows:"
   ]
  },
  {
   "cell_type": "raw",
   "metadata": {
    "hidden": true
   },
   "source": [
    "Maximum width of the asymptotic 95% confidence interval with the exponential job size distribution:\n",
    "Lk1 : 0.001653\n",
    "Lk2 : 0.003051"
   ]
  },
  {
   "cell_type": "raw",
   "metadata": {
    "hidden": true
   },
   "source": [
    "Maximum width of the asymptotic 95% confidence interval with the hyperexponential job size distribution:\n",
    "betak1 : 0.000048\n",
    "betak2 : 0.000071\n",
    "Lk1 : 0.001770\n",
    "Lk2 : 0.006367"
   ]
  }
 ],
 "metadata": {
  "language_info": {
   "name": "python",
   "pygments_lexer": "ipython3"
  }
 },
 "nbformat": 4,
 "nbformat_minor": 2
}
