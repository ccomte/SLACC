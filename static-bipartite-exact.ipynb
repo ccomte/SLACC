{
 "cells": [
  {
   "cell_type": "markdown",
   "metadata": {},
   "source": [
    "# Dynamic Load Balancing with Tokens\n",
    "\n",
    "Compute the performance of two static load balancing policies, referred to as *best static* and *uniform static*."
   ]
  },
  {
   "cell_type": "markdown",
   "metadata": {
    "heading_collapsed": true
   },
   "source": [
    "## Package imports and global variable definitions"
   ]
  },
  {
   "cell_type": "code",
   "execution_count": null,
   "metadata": {
    "hidden": true
   },
   "outputs": [],
   "source": [
    "%pylab inline"
   ]
  },
  {
   "cell_type": "code",
   "execution_count": null,
   "metadata": {
    "hidden": true
   },
   "outputs": [],
   "source": [
    "# uncomment this line if you prefer dynamic matplotlib plots\n",
    "# %matplotlib notebook\n",
    "\n",
    "# change the default figure size\n",
    "pylab.rcParams['figure.figsize'] = (10.0, 6.0)\n",
    "pylab.rcParams['legend.fontsize'] = 12"
   ]
  },
  {
   "cell_type": "code",
   "execution_count": null,
   "metadata": {
    "hidden": true
   },
   "outputs": [],
   "source": [
    "# manipulate dataframes\n",
    "import pandas as pd"
   ]
  },
  {
   "cell_type": "code",
   "execution_count": null,
   "metadata": {
    "hidden": true
   },
   "outputs": [],
   "source": [
    "# global variables\n",
    "ρρ = append( linspace(5., .01, 400, endpoint = False), linspace(.01, 0, 10, endpoint = False) )\n",
    "nb_tokens = 6"
   ]
  },
  {
   "cell_type": "markdown",
   "metadata": {
    "heading_collapsed": true
   },
   "source": [
    "## Performance of the static load balancing policies"
   ]
  },
  {
   "cell_type": "markdown",
   "metadata": {
    "heading_collapsed": true,
    "hidden": true
   },
   "source": [
    "### Computations"
   ]
  },
  {
   "cell_type": "markdown",
   "metadata": {
    "hidden": true
   },
   "source": [
    "** Independence.**\n",
    "In steady state, the number of jobs at each server is independent of the number of jobs at the other servers.\n",
    "Therefore, the stationary distribution of the aggregate state $y = (y_i : i = 1, \\ldots, N)$\n",
    "that counts the number of available tokens of each server\n",
    "is given by\n",
    "$$\n",
    "\\pi(y) = \\pi(0) \\prod_{i=1}^N {\\rho_i}^{y_i},\n",
    "\\quad \\forall y \\le \\ell,\n",
    "$$\n",
    "where $\\rho_1 = \\frac{\\mu_1}{\\nu p_1}, \\ldots, \\rho_N = \\frac{\\mu_N}{\\nu p_N}$\n",
    "are the (state-independent) loads at the servers."
   ]
  },
  {
   "cell_type": "markdown",
   "metadata": {
    "hidden": true
   },
   "source": [
    "** Blocking probability.**\n",
    "With this observation in mind, we can write the average blocking probability $\\beta$ as follows:\n",
    "$$\n",
    "\\beta\n",
    "= \\sum_{i=1}^N p_i \\beta_{|i},\n",
    "$$\n",
    "where $\\beta_{|i}$ is the blocking probability of jobs assigned to server $i$.\n",
    "The arrival process of jobs assigned to server $i$ is Poisson with rate $\\lambda_i = \\nu p_i$.\n",
    "Hence, we can apply PASTA property, which states that\n",
    "$\\beta_{|i}$ is the probability that all tokens of server $i$ are held by jobs in service,\n",
    "that is, $y_i = 0$:\n",
    "$$\n",
    "\\beta_{|i} = \\frac1{ \\sum_{y_i = 0}^{\\ell_i} {\\rho_i}^{y_i} }.\n",
    "$$"
   ]
  },
  {
   "cell_type": "markdown",
   "metadata": {
    "hidden": true
   },
   "source": [
    "**Mean number of jobs.**\n",
    "By linearity of the expectation, the mean number $L$ of jobs in the system is given by\n",
    "$$\n",
    "L = \\sum_{i=1}^N L_i,\n",
    "$$\n",
    "where, for each $i = 1,\\ldots,N$,\n",
    "$L_i$ is the mean number of jobs at server $i$.\n",
    "Since the servers states are independent, we have\n",
    "$$\n",
    "L_i = \\frac\n",
    "{ \\sum_{y_i = 0}^{\\ell_i} y_i {\\rho_i}^{y_i} }\n",
    "{ \\sum_{y_i = 0}^{\\ell_i} {\\rho_i}^{y_i} },\n",
    "\\quad \\forall i = 1,\\ldots,N.\n",
    "$$"
   ]
  },
  {
   "cell_type": "markdown",
   "metadata": {
    "heading_collapsed": true,
    "hidden": true
   },
   "source": [
    "### Functions"
   ]
  },
  {
   "cell_type": "code",
   "execution_count": null,
   "metadata": {
    "hidden": true
   },
   "outputs": [],
   "source": [
    "def mm1ℓ(ℓ, ρ):\n",
    "    π = power(ρ, arange(ℓ+1))\n",
    "    π /= sum(π)\n",
    "    return π[0], ℓ - inner(π, arange(ℓ+1))"
   ]
  },
  {
   "cell_type": "code",
   "execution_count": null,
   "metadata": {
    "hidden": true
   },
   "outputs": [],
   "source": [
    "def static(N, ℓ, μ, ν, p):\n",
    "    β = zeros(N); L = zeros(N)\n",
    "    result = []\n",
    "    \n",
    "    for i in range(N):\n",
    "        β[i], L[i] = mm1ℓ(ℓ[i], μ[i] / (ν * p[i]))\n",
    "        result += (β[i], L[i])\n",
    "    result += [inner(p, β), sum(L)]\n",
    "    \n",
    "    return result"
   ]
  },
  {
   "cell_type": "markdown",
   "metadata": {
    "hidden": true
   },
   "source": [
    "The function ``create_static_df`` calls the function ``static`` and creates a dataframe (from ``pandas`` library) that stores the results:"
   ]
  },
  {
   "cell_type": "code",
   "execution_count": null,
   "metadata": {
    "hidden": true
   },
   "outputs": [],
   "source": [
    "def create_static_df(N, ℓ, μ, ρρ, p, prefix = \"\"):\n",
    "    data = [static(N, ℓ, μ, ρ * sum(μ), p) for ρ in ρρ]\n",
    "    \n",
    "    df = pd.DataFrame({'rho': ρρ})\n",
    "    \n",
    "    for i in range(N):\n",
    "        df[prefix + 'betai' + str(i+1)] = [d[2*i] for d in data]\n",
    "        df[prefix + 'psii' + str(i+1)] = 1. - (sum(μ) * p[i] / μ[i]) * ρρ * [1. - d[2*i] for d in data]\n",
    "        df[prefix + 'Li' + str(i+1)] = [d[2*i+1] for d in data]\n",
    "        df[prefix + 'gammai' + str(i+1)] = ρρ * sum(μ) * p[i] * [(1. - d[2*i]) / d[2*i+1] for d in data]\n",
    "\n",
    "    df[prefix + 'beta'] = [d[2*N] for d in data]\n",
    "    df[prefix + 'eta'] = ρρ * [1. - d[2*N] for d in data]\n",
    "    df[prefix + 'L'] = [d[2*N+1] for d in data]\n",
    "    df[prefix + 'gamma'] = ρρ * sum(μ) * [(1. - d[2*N]) / d[2*N+1] for d in data]\n",
    "    \n",
    "    return df"
   ]
  },
  {
   "cell_type": "markdown",
   "metadata": {
    "heading_collapsed": true
   },
   "source": [
    "## A single job type"
   ]
  },
  {
   "cell_type": "markdown",
   "metadata": {
    "hidden": true
   },
   "source": [
    "We consider the first scenario in the paper.\n",
    "There are $N = 10$ servers, each with $\\ell = 6$ tokens.\n",
    "The first half have a unit service capacity $\\mu$\n",
    "and the other half have a service capacity $4 \\mu$.\n",
    "There is a single job type, i.e., all jobs can be assigned to any server.\n",
    "The external arrival rate is denoted by $\\nu$."
   ]
  },
  {
   "cell_type": "code",
   "execution_count": null,
   "metadata": {
    "hidden": true
   },
   "outputs": [],
   "source": [
    "# parameters\n",
    "N = 10\n",
    "μ = ones(N); μ[N//2:] = 4.\n",
    "ℓ = nb_tokens * ones(N, dtype = int)\n",
    "\n",
    "# best static policy\n",
    "best = ones(N)\n",
    "best[N//2:] = 4.\n",
    "best /= sum(best)\n",
    "\n",
    "# uniform static policy\n",
    "uni = ones(N)\n",
    "uni /= sum(uni)"
   ]
  },
  {
   "cell_type": "code",
   "execution_count": null,
   "metadata": {
    "hidden": true
   },
   "outputs": [],
   "source": [
    "# compute the analytical results\n",
    "best_static_df = create_static_df(N, ℓ, μ, ρρ, best)\n",
    "uni_static_df = create_static_df(N, ℓ, μ, ρρ, uni)"
   ]
  },
  {
   "cell_type": "code",
   "execution_count": null,
   "metadata": {
    "hidden": true
   },
   "outputs": [],
   "source": [
    "# save them in csv\n",
    "best_static_df.to_csv(\"data/single-best-static-exact.csv\", index = False)\n",
    "uni_static_df.to_csv(\"data/single-uni-static-exact.csv\", index = False)"
   ]
  },
  {
   "cell_type": "markdown",
   "metadata": {},
   "source": [
    "## Two job types"
   ]
  },
  {
   "cell_type": "markdown",
   "metadata": {},
   "source": [
    "We consider the second scenario in the paper.\n",
    "There are $N = 10$ servers, each with $\\ell = 6$ tokens.\n",
    "All servers have the same unit service capacity $\\mu$.\n",
    "There are two job types.\n",
    "The jobs of the first type arrive at a unit rate $\\nu$\n",
    "and can be assigned to any of the first seven servers.\n",
    "The jobs of the second type arrive at rate $4 \\nu$\n",
    "and can be assigned to any of the last seven servers."
   ]
  },
  {
   "cell_type": "code",
   "execution_count": null,
   "metadata": {},
   "outputs": [],
   "source": [
    "# parameters\n",
    "N = 10\n",
    "μ = ones(N)\n",
    "ℓ = nb_tokens * ones(N, dtype = int)\n",
    "\n",
    "# best static policy\n",
    "best = asarray([7, 7, 7, 12, 12, 12, 12, 12, 12, 12], dtype = float)\n",
    "best /= sum(best)\n",
    "\n",
    "# uniform static policy\n",
    "uni = asarray([1, 1, 1, 5, 5, 5, 5, 4, 4, 4], dtype = float)\n",
    "uni /= sum(uni)"
   ]
  },
  {
   "cell_type": "code",
   "execution_count": null,
   "metadata": {},
   "outputs": [],
   "source": [
    "# compute the analytical results\n",
    "best_static_df = create_static_df(N, ℓ, μ, ρρ, best)\n",
    "uni_static_df = create_static_df(N, ℓ, μ, ρρ, uni)"
   ]
  },
  {
   "cell_type": "code",
   "execution_count": null,
   "metadata": {},
   "outputs": [],
   "source": [
    "# save the results in csv\n",
    "best_static_df.to_csv(\"data/multi-best-static-exact.csv\", index = False)\n",
    "uni_static_df.to_csv(\"data/multi-uni-static-exact.csv\", index = False)"
   ]
  }
 ],
 "metadata": {
  "language_info": {
   "name": "python",
   "pygments_lexer": "ipython3"
  }
 },
 "nbformat": 4,
 "nbformat_minor": 2
}
